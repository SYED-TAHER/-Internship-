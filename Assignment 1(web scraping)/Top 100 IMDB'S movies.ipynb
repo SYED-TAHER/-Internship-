{
 "cells": [
  {
   "cell_type": "code",
   "execution_count": 1,
   "metadata": {},
   "outputs": [],
   "source": [
    "!pip install bs4 --upgrade --quiet"
   ]
  },
  {
   "cell_type": "code",
   "execution_count": 2,
   "metadata": {},
   "outputs": [],
   "source": [
    "!pip install requests --upgrade --quiet"
   ]
  },
  {
   "cell_type": "code",
   "execution_count": 3,
   "metadata": {},
   "outputs": [],
   "source": [
    "import requests\n",
    "from bs4 import BeautifulSoup"
   ]
  },
  {
   "cell_type": "code",
   "execution_count": 10,
   "metadata": {},
   "outputs": [],
   "source": [
    "page = requests.get('https://www.imdb.com/search/title/?groups=top_100&sort=user_rating,desc&count=100')"
   ]
  },
  {
   "cell_type": "code",
   "execution_count": 11,
   "metadata": {
    "scrolled": true
   },
   "outputs": [
    {
     "data": {
      "text/plain": [
       "<Response [200]>"
      ]
     },
     "execution_count": 11,
     "metadata": {},
     "output_type": "execute_result"
    }
   ],
   "source": [
    "page"
   ]
  },
  {
   "cell_type": "code",
   "execution_count": 66,
   "metadata": {},
   "outputs": [],
   "source": [
    "top = BeautifulSoup(page.content)\n"
   ]
  },
  {
   "cell_type": "code",
   "execution_count": 116,
   "metadata": {},
   "outputs": [
    {
     "data": {
      "text/plain": [
       "'The Shawshank Redemption'"
      ]
     },
     "execution_count": 116,
     "metadata": {},
     "output_type": "execute_result"
    }
   ],
   "source": [
    "name = top.find(\"h3\",class_='lister-item-header').text.strip().replace('1.\\n','').replace('\\n','').replace('(1994)','')\n",
    "name"
   ]
  },
  {
   "cell_type": "code",
   "execution_count": 122,
   "metadata": {},
   "outputs": [
    {
     "data": {
      "text/plain": [
       "['1.The Shawshank Redemption(1994)',\n",
       " '2.The Godfather(1972)',\n",
       " '3.The Dark Knight(2008)',\n",
       " '4.The Lord of the Rings: The Return of the King(2003)',\n",
       " \"5.Schindler's List(1993)\",\n",
       " '6.The Godfather: Part II(1974)',\n",
       " '7.12 Angry Men(1957)',\n",
       " '8.The Lord of the Rings: The Fellowship of the Ring(2001)',\n",
       " '9.Pulp Fiction(1994)',\n",
       " '10.Inception(2010)',\n",
       " '11.The Lord of the Rings: The Two Towers(2002)',\n",
       " '12.Fight Club(1999)',\n",
       " '13.Forrest Gump(1994)',\n",
       " '14.Il buono, il brutto, il cattivo(1966)',\n",
       " '15.Interstellar(2014)',\n",
       " '16.The Matrix(1999)',\n",
       " '17.Goodfellas(1990)',\n",
       " '18.The Empire Strikes Back(1980)',\n",
       " \"19.One Flew Over the Cuckoo's Nest(1975)\",\n",
       " '20.Shichinin no samurai(1954)',\n",
       " \"21.It's a Wonderful Life(1946)\",\n",
       " '22.Cidade de Deus(2002)',\n",
       " '23.The Pianist(2002)',\n",
       " '24.Sen to Chihiro no kamikakushi(2001)',\n",
       " '25.Saving Private Ryan(1998)',\n",
       " '26.The Green Mile(1999)',\n",
       " '27.La vita è bella(1997)',\n",
       " '28.Se7en(1995)',\n",
       " '29.Léon(1994)',\n",
       " '30.Terminator 2: Judgment Day(1991)',\n",
       " '31.The Silence of the Lambs(1991)',\n",
       " '32.Back to the Future(1985)',\n",
       " '33.Star Wars(1977)',\n",
       " '34.Seppuku(1962)',\n",
       " '35.Gisaengchung(2019)',\n",
       " '36.Avengers: Infinity War(2018)',\n",
       " '37.Whiplash(2014)',\n",
       " '38.Django Unchained(2012)',\n",
       " '39.The Intouchables(2011)',\n",
       " '40.3 Idiots(2009)',\n",
       " '41.Spider-Man: No Way Home(2021)',\n",
       " '42.The Prestige(2006)',\n",
       " '43.The Departed(2006)',\n",
       " '44.Memento(2000)',\n",
       " '45.Gladiator(2000)',\n",
       " '46.American History X(1998)',\n",
       " '47.The Usual Suspects(1995)',\n",
       " '48.The Lion King(1994)',\n",
       " '49.Nuovo Cinema Paradiso(1988)',\n",
       " '50.Hotaru no haka(1988)',\n",
       " '51.Apocalypse Now(1979)',\n",
       " '52.Alien(1979)',\n",
       " '53.Once Upon a Time in the West(1968)',\n",
       " '54.Psycho(1960)',\n",
       " '55.Rear Window(1954)',\n",
       " '56.Casablanca(1942)',\n",
       " '57.Modern Times(1936)',\n",
       " '58.City Lights(1931)',\n",
       " '59.Capharnaüm(2018)',\n",
       " '60.Joker(I) (2019)',\n",
       " '61.Kimi no na wa.(2016)',\n",
       " '62.Spider-Man: Into the Spider-Verse(2018)',\n",
       " '63.Avengers: Endgame(2019)',\n",
       " '64.Coco(I) (2017)',\n",
       " '65.The Dark Knight Rises(2012)',\n",
       " '66.WALL·E(2008)',\n",
       " '67.The Lives of Others(2006)',\n",
       " '68.Oldeuboi(2003)',\n",
       " '69.American Beauty(1999)',\n",
       " '70.Mononoke-hime(1997)',\n",
       " '71.Braveheart(1995)',\n",
       " '72.Aliens(1986)',\n",
       " '73.Once Upon a Time in America(1984)',\n",
       " '74.Amadeus(1984)',\n",
       " '75.Raiders of the Lost Ark(1981)',\n",
       " '76.Das Boot(1981)',\n",
       " '77.The Shining(1980)',\n",
       " '78.Tengoku to jigoku(1963)',\n",
       " '79.Dr. Strangelove or: How I Learned to Stop Worrying and Love the Bomb(1964)',\n",
       " '80.Witness for the Prosecution(1957)',\n",
       " '81.Paths of Glory(1957)',\n",
       " '82.Sunset Blvd.(1950)',\n",
       " '83.The Great Dictator(1940)',\n",
       " '84.Jagten(2012)',\n",
       " '85.Toy Story 3(2010)',\n",
       " '86.Inglourious Basterds(2009)',\n",
       " '87.Eternal Sunshine of the Spotless Mind(2004)',\n",
       " \"88.Le fabuleux destin d'Amélie Poulain(2001)\",\n",
       " '89.Requiem for a Dream(2000)',\n",
       " '90.Good Will Hunting(1997)',\n",
       " '91.Toy Story(1995)',\n",
       " '92.Reservoir Dogs(1992)',\n",
       " '93.Star Wars: Episode VI - Return of the Jedi(1983)',\n",
       " '94.2001: A Space Odyssey(1968)',\n",
       " '95.Lawrence of Arabia(1962)',\n",
       " '96.North by Northwest(1959)',\n",
       " '97.Vertigo(1958)',\n",
       " \"98.Singin' in the Rain(1952)\",\n",
       " '99.Citizen Kane(1941)',\n",
       " '100.M - Eine Stadt sucht einen Mörder(1931)']"
      ]
     },
     "execution_count": 122,
     "metadata": {},
     "output_type": "execute_result"
    }
   ],
   "source": [
    "name_ = []\n",
    "for name in top.find_all(\"h3\",class_='lister-item-header'):\n",
    "    name_.append(name.text.strip().replace('\\n','').replace('\\n','').replace('()',''))\n",
    "name_    "
   ]
  },
  {
   "cell_type": "code",
   "execution_count": 124,
   "metadata": {},
   "outputs": [
    {
     "data": {
      "text/plain": [
       "'9.3'"
      ]
     },
     "execution_count": 124,
     "metadata": {},
     "output_type": "execute_result"
    }
   ],
   "source": [
    "rating = top.find(\"div\", class_= 'inline-block ratings-imdb-rating')\n",
    "rating.text.strip()"
   ]
  },
  {
   "cell_type": "code",
   "execution_count": 126,
   "metadata": {},
   "outputs": [
    {
     "data": {
      "text/plain": [
       "['9.3',\n",
       " '9.2',\n",
       " '9.1',\n",
       " '9.0',\n",
       " '9.0',\n",
       " '9.0',\n",
       " '9.0',\n",
       " '8.9',\n",
       " '8.9',\n",
       " '8.8',\n",
       " '8.8',\n",
       " '8.8',\n",
       " '8.8',\n",
       " '8.8',\n",
       " '8.7',\n",
       " '8.7',\n",
       " '8.7',\n",
       " '8.7',\n",
       " '8.7',\n",
       " '8.7',\n",
       " '8.7',\n",
       " '8.6',\n",
       " '8.6',\n",
       " '8.6',\n",
       " '8.6',\n",
       " '8.6',\n",
       " '8.6',\n",
       " '8.6',\n",
       " '8.6',\n",
       " '8.6',\n",
       " '8.6',\n",
       " '8.6',\n",
       " '8.6',\n",
       " '8.6',\n",
       " '8.5',\n",
       " '8.5',\n",
       " '8.5',\n",
       " '8.5',\n",
       " '8.5',\n",
       " '8.5',\n",
       " '8.5',\n",
       " '8.5',\n",
       " '8.5',\n",
       " '8.5',\n",
       " '8.5',\n",
       " '8.5',\n",
       " '8.5',\n",
       " '8.5',\n",
       " '8.5',\n",
       " '8.5',\n",
       " '8.5',\n",
       " '8.5',\n",
       " '8.5',\n",
       " '8.5',\n",
       " '8.5',\n",
       " '8.5',\n",
       " '8.5',\n",
       " '8.5',\n",
       " '8.4',\n",
       " '8.4',\n",
       " '8.4',\n",
       " '8.4',\n",
       " '8.4',\n",
       " '8.4',\n",
       " '8.4',\n",
       " '8.4',\n",
       " '8.4',\n",
       " '8.4',\n",
       " '8.4',\n",
       " '8.4',\n",
       " '8.4',\n",
       " '8.4',\n",
       " '8.4',\n",
       " '8.4',\n",
       " '8.4',\n",
       " '8.4',\n",
       " '8.4',\n",
       " '8.4',\n",
       " '8.4',\n",
       " '8.4',\n",
       " '8.4',\n",
       " '8.4',\n",
       " '8.4',\n",
       " '8.3',\n",
       " '8.3',\n",
       " '8.3',\n",
       " '8.3',\n",
       " '8.3',\n",
       " '8.3',\n",
       " '8.3',\n",
       " '8.3',\n",
       " '8.3',\n",
       " '8.3',\n",
       " '8.3',\n",
       " '8.3',\n",
       " '8.3',\n",
       " '8.3',\n",
       " '8.3',\n",
       " '8.3',\n",
       " '8.3']"
      ]
     },
     "execution_count": 126,
     "metadata": {},
     "output_type": "execute_result"
    }
   ],
   "source": [
    "rating_ = []\n",
    "for r in top.find_all('div',class_= 'inline-block ratings-imdb-rating'):\n",
    "    rating_.append(r.text.strip())\n",
    "rating_"
   ]
  },
  {
   "cell_type": "code",
   "execution_count": 127,
   "metadata": {},
   "outputs": [],
   "source": [
    "year = top.find(\"span\", class_=\"lister-item-year text-muted unbold\")"
   ]
  },
  {
   "cell_type": "code",
   "execution_count": 128,
   "metadata": {},
   "outputs": [
    {
     "data": {
      "text/plain": [
       "'(1994)'"
      ]
     },
     "execution_count": 128,
     "metadata": {},
     "output_type": "execute_result"
    }
   ],
   "source": [
    "year.text"
   ]
  },
  {
   "cell_type": "code",
   "execution_count": 129,
   "metadata": {},
   "outputs": [
    {
     "data": {
      "text/plain": [
       "['(1994)',\n",
       " '(1972)',\n",
       " '(2008)',\n",
       " '(2003)',\n",
       " '(1993)',\n",
       " '(1974)',\n",
       " '(1957)',\n",
       " '(2001)',\n",
       " '(1994)',\n",
       " '(2010)',\n",
       " '(2002)',\n",
       " '(1999)',\n",
       " '(1994)',\n",
       " '(1966)',\n",
       " '(2014)',\n",
       " '(1999)',\n",
       " '(1990)',\n",
       " '(1980)',\n",
       " '(1975)',\n",
       " '(1954)',\n",
       " '(1946)',\n",
       " '(2002)',\n",
       " '(2002)',\n",
       " '(2001)',\n",
       " '(1998)',\n",
       " '(1999)',\n",
       " '(1997)',\n",
       " '(1995)',\n",
       " '(1994)',\n",
       " '(1991)',\n",
       " '(1991)',\n",
       " '(1985)',\n",
       " '(1977)',\n",
       " '(1962)',\n",
       " '(2019)',\n",
       " '(2018)',\n",
       " '(2014)',\n",
       " '(2012)',\n",
       " '(2011)',\n",
       " '(2009)',\n",
       " '(2021)',\n",
       " '(2006)',\n",
       " '(2006)',\n",
       " '(2000)',\n",
       " '(2000)',\n",
       " '(1998)',\n",
       " '(1995)',\n",
       " '(1994)',\n",
       " '(1988)',\n",
       " '(1988)',\n",
       " '(1979)',\n",
       " '(1979)',\n",
       " '(1968)',\n",
       " '(1960)',\n",
       " '(1954)',\n",
       " '(1942)',\n",
       " '(1936)',\n",
       " '(1931)',\n",
       " '(2018)',\n",
       " '(I) (2019)',\n",
       " '(2016)',\n",
       " '(2018)',\n",
       " '(2019)',\n",
       " '(I) (2017)',\n",
       " '(2012)',\n",
       " '(2008)',\n",
       " '(2006)',\n",
       " '(2003)',\n",
       " '(1999)',\n",
       " '(1997)',\n",
       " '(1995)',\n",
       " '(1986)',\n",
       " '(1984)',\n",
       " '(1984)',\n",
       " '(1981)',\n",
       " '(1981)',\n",
       " '(1980)',\n",
       " '(1963)',\n",
       " '(1964)',\n",
       " '(1957)',\n",
       " '(1957)',\n",
       " '(1950)',\n",
       " '(1940)',\n",
       " '(2012)',\n",
       " '(2010)',\n",
       " '(2009)',\n",
       " '(2004)',\n",
       " '(2001)',\n",
       " '(2000)',\n",
       " '(1997)',\n",
       " '(1995)',\n",
       " '(1992)',\n",
       " '(1983)',\n",
       " '(1968)',\n",
       " '(1962)',\n",
       " '(1959)',\n",
       " '(1958)',\n",
       " '(1952)',\n",
       " '(1941)',\n",
       " '(1931)']"
      ]
     },
     "execution_count": 129,
     "metadata": {},
     "output_type": "execute_result"
    }
   ],
   "source": [
    "year_ = []\n",
    "for year in top.find_all(class_=\"lister-item-year text-muted unbold\"):\n",
    "    year_.append(year.text)\n",
    "year_"
   ]
  },
  {
   "cell_type": "code",
   "execution_count": 130,
   "metadata": {},
   "outputs": [],
   "source": [
    "import pandas as pd"
   ]
  },
  {
   "cell_type": "code",
   "execution_count": 135,
   "metadata": {},
   "outputs": [
    {
     "data": {
      "text/html": [
       "<div>\n",
       "<style scoped>\n",
       "    .dataframe tbody tr th:only-of-type {\n",
       "        vertical-align: middle;\n",
       "    }\n",
       "\n",
       "    .dataframe tbody tr th {\n",
       "        vertical-align: top;\n",
       "    }\n",
       "\n",
       "    .dataframe thead th {\n",
       "        text-align: right;\n",
       "    }\n",
       "</style>\n",
       "<table border=\"1\" class=\"dataframe\">\n",
       "  <thead>\n",
       "    <tr style=\"text-align: right;\">\n",
       "      <th></th>\n",
       "      <th>Name</th>\n",
       "      <th>Rating</th>\n",
       "      <th>Year</th>\n",
       "    </tr>\n",
       "  </thead>\n",
       "  <tbody>\n",
       "    <tr>\n",
       "      <th>0</th>\n",
       "      <td>1.The Shawshank Redemption(1994)</td>\n",
       "      <td>9.3</td>\n",
       "      <td>(1994)</td>\n",
       "    </tr>\n",
       "    <tr>\n",
       "      <th>1</th>\n",
       "      <td>2.The Godfather(1972)</td>\n",
       "      <td>9.2</td>\n",
       "      <td>(1972)</td>\n",
       "    </tr>\n",
       "    <tr>\n",
       "      <th>2</th>\n",
       "      <td>3.The Dark Knight(2008)</td>\n",
       "      <td>9.1</td>\n",
       "      <td>(2008)</td>\n",
       "    </tr>\n",
       "    <tr>\n",
       "      <th>3</th>\n",
       "      <td>4.The Lord of the Rings: The Return of the Kin...</td>\n",
       "      <td>9.0</td>\n",
       "      <td>(2003)</td>\n",
       "    </tr>\n",
       "    <tr>\n",
       "      <th>4</th>\n",
       "      <td>5.Schindler's List(1993)</td>\n",
       "      <td>9.0</td>\n",
       "      <td>(1993)</td>\n",
       "    </tr>\n",
       "    <tr>\n",
       "      <th>...</th>\n",
       "      <td>...</td>\n",
       "      <td>...</td>\n",
       "      <td>...</td>\n",
       "    </tr>\n",
       "    <tr>\n",
       "      <th>95</th>\n",
       "      <td>96.North by Northwest(1959)</td>\n",
       "      <td>8.3</td>\n",
       "      <td>(1959)</td>\n",
       "    </tr>\n",
       "    <tr>\n",
       "      <th>96</th>\n",
       "      <td>97.Vertigo(1958)</td>\n",
       "      <td>8.3</td>\n",
       "      <td>(1958)</td>\n",
       "    </tr>\n",
       "    <tr>\n",
       "      <th>97</th>\n",
       "      <td>98.Singin' in the Rain(1952)</td>\n",
       "      <td>8.3</td>\n",
       "      <td>(1952)</td>\n",
       "    </tr>\n",
       "    <tr>\n",
       "      <th>98</th>\n",
       "      <td>99.Citizen Kane(1941)</td>\n",
       "      <td>8.3</td>\n",
       "      <td>(1941)</td>\n",
       "    </tr>\n",
       "    <tr>\n",
       "      <th>99</th>\n",
       "      <td>100.M - Eine Stadt sucht einen Mörder(1931)</td>\n",
       "      <td>8.3</td>\n",
       "      <td>(1931)</td>\n",
       "    </tr>\n",
       "  </tbody>\n",
       "</table>\n",
       "<p>100 rows × 3 columns</p>\n",
       "</div>"
      ],
      "text/plain": [
       "                                                 Name         Rating    Year\n",
       "0                    1.The Shawshank Redemption(1994)            9.3  (1994)\n",
       "1                               2.The Godfather(1972)            9.2  (1972)\n",
       "2                             3.The Dark Knight(2008)            9.1  (2008)\n",
       "3   4.The Lord of the Rings: The Return of the Kin...            9.0  (2003)\n",
       "4                            5.Schindler's List(1993)            9.0  (1993)\n",
       "..                                                ...            ...     ...\n",
       "95                        96.North by Northwest(1959)            8.3  (1959)\n",
       "96                                   97.Vertigo(1958)            8.3  (1958)\n",
       "97                       98.Singin' in the Rain(1952)            8.3  (1952)\n",
       "98                              99.Citizen Kane(1941)            8.3  (1941)\n",
       "99        100.M - Eine Stadt sucht einen Mörder(1931)            8.3  (1931)\n",
       "\n",
       "[100 rows x 3 columns]"
      ]
     },
     "execution_count": 135,
     "metadata": {},
     "output_type": "execute_result"
    }
   ],
   "source": [
    "df = pd.DataFrame({'Name':name_ ,'Rating':rating_,'Year': year_})\n",
    "df"
   ]
  },
  {
   "cell_type": "code",
   "execution_count": null,
   "metadata": {},
   "outputs": [],
   "source": []
  },
  {
   "cell_type": "code",
   "execution_count": null,
   "metadata": {},
   "outputs": [],
   "source": []
  }
 ],
 "metadata": {
  "kernelspec": {
   "display_name": "Python 3",
   "language": "python",
   "name": "python3"
  },
  "language_info": {
   "codemirror_mode": {
    "name": "ipython",
    "version": 3
   },
   "file_extension": ".py",
   "mimetype": "text/x-python",
   "name": "python",
   "nbconvert_exporter": "python",
   "pygments_lexer": "ipython3",
   "version": "3.8.5"
  }
 },
 "nbformat": 4,
 "nbformat_minor": 4
}
