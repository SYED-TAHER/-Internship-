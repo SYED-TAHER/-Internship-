{
 "cells": [
  {
   "cell_type": "code",
   "execution_count": 26,
   "metadata": {},
   "outputs": [],
   "source": [
    "!pip install bs4 --upgrade --quiet\n",
    "!pip install requests --upgrade --quiet\n",
    "!pip install progressbar --upgrade --quiet\n",
    "import itertools\n",
    "from bs4 import BeautifulSoup \n",
    "import requests\n",
    "import pandas as pd"
   ]
  },
  {
   "cell_type": "code",
   "execution_count": 4,
   "metadata": {},
   "outputs": [
    {
     "data": {
      "text/plain": [
       "<Response [200]>"
      ]
     },
     "execution_count": 4,
     "metadata": {},
     "output_type": "execute_result"
    }
   ],
   "source": [
    "url = requests.get('https://www.nobroker.in/property/rent/bangalore/multiple?searchParam=W3sibGF0IjoxMi45NzgzNjkyLCJsb24iOjc3LjY0MDgzNTYsInBsYWNlSWQiOiJDaElKa1FOM0dLUVdyanNSTmhCUUpyaEdEN1UiLCJwbGFjZU5hbWUiOiJJbmRpcmFuYWdhciJ9LHsibGF0IjoxMi45OTgxNzMyLCJsb24iOjc3LjU1MzA0NDU5OTk5OTk5LCJwbGFjZUlkIjoiQ2hJSnhmVzREUE05cmpzUktzTlRHLTVwX1FRIiwicGxhY2VOYW1lIjoiUmFqYWppbmFnYXIifSx7ImxhdCI6MTIuOTMwNzczNSwibG9uIjo3Ny41ODM4MzAyLCJwbGFjZUlkIjoiQ2hJSjJkZGxaNWdWcmpzUmgxQk9BYWYtb3JzIiwicGxhY2VOYW1lIjoiSmF5YW5hZ2FyIn1d&radius=2.0&sharedAccomodation=0&city=bangalore&locality=Indiranagar,&locality=Rajajinagar,&locality=Jayanagar')\n",
    "url"
   ]
  },
  {
   "cell_type": "code",
   "execution_count": 5,
   "metadata": {},
   "outputs": [
    {
     "data": {
      "text/plain": [
       "\"2,774   Flats for Rent in Indira Nagar,Rajajinagar,Jayanagar, Bangalore Karnataka Without Brokerage - NoBroker Rental Properties in Indira Nagar,Rajajinagar,Jayanagar Karnataka Without Brokerage\\n\\n\\n\\n\\n\\n\\n\\n\\n\\n\\n\\n\\n\\n\\n\\n\\n\\n\\n\\n\\n\\n\\n\\n\\n\\n\\n\\n\\n\\n RentMy BookingsPay RentPost Your PropertySign upLog inMenuPost Your PropertyRental AgreementPainting & CleaningRefer & EarnRent ReceiptsTenant PlansOwner PlansBuyer PlansSeller PlansCommercial PlansCareersCorporate EnquiryBlogContact UsEmailhello@nobroker.inNoBroker HomeSign upLog inIndiranagarRajajinagarJayanagarSearchSave SearchListMapFiltersPremium FiltersNewResetApartment type1 RK1 BHK2 BHK3 BHK4 BHK4+ BHKRent Range: ₹ 0 to ₹ 5 LakhsAvailabilityImmediateWithin 15 DaysWithin 30 DaysAfter 30 DaysPreferred TenantsFamilyBachelorCompanyFurnishingFullSemiNoneAdvanced Filters Home \\xa0/\\xa0Bangalore\\xa0/\\xa0MultipleSort By: nbrank,desc2,774 - Apartments, Flats for Rent in Indira Nagar,Rajajinagar,Jayanagar, Bangalore Karnataka Without Brokerage | Rental Houses in Indira Nagar,Rajajinagar,Jayanagar Karnataka Without Brokerage2 BHK Flat  For Rent  In Olive Apartment In Jayanagar 3rd Block East, JayanagarSwagath Rd, 3rd Block East, LIC Colonyn behind Swagath Garuda MallExplore Nearby2022-03-312 BHK Flat  For Rent  In Olive Apartment In Jayanagar 3rd Block East, JayanagarSwagath Rd, 3rd Block East, LIC Colonyn behind Swagath Garuda Mall2 BHK Flat  For Rent  In Olive Apartment In Jayanagar 3rd Block East, JayanagarJayanagar 3rd Block East, Jayanagarbangalore5600112 BHK Flat  For Rent  In Olive Apartment In Jayanagar 3rd Block East, JayanagarJayanagar 3rd Block East, JayanagarbangaloreREADY5600111,000 sqftBuiltup₹2,25,000Deposit₹ 27,000No Extra MaintenanceRent (Negotiable)10 PhotosSemi furnishedFurnishingFurnish2 BHKApartment TypeAllPreferred TenantsReady to MoveAvailable FromGet Owner DetailsNearby: IBC Knowledge ParkVidyarthi BhavanMeghana FoodsCool JointLalbagh Botanical Garden2 BHK Flat  For Rent  In 10th C Main Road, RajajinagarStandalone building, Gubbanna Ground, 1st Main Road, 1st Block, 6th Block, Rajaji Nagar, Bengaluru, Karnataka, IndiaExplore Nearby2022-04-042 BHK Flat  For Rent  In 10th C Main Road, RajajinagarStandalone building, Gubbanna Ground, 1st Main Road, 1st Block, 6th Block, Rajaji Nagar, Bengaluru, Karnataka, India2 BHK Flat  For Rent  In 10th C Main Road, Rajajinagar10th C Main Road, Rajajinagarbangalore2 BHK Flat  For Rent  In 10th C Main Road, Rajajinagar10th C Main Road, RajajinagarbangaloreREADY1,200 sqftBuiltup₹2,50,000Deposit₹ 25,000No Extra MaintenanceRent (Negotiable)4 PhotosFully furnishedFurnishing2 BHKApartment TypeAllPreferred Tenants04-Apr-2022Available FromGet Owner DetailsNearby: CinepolisDMartVeeresh CinemaAnjan CinemasETA Star The Gardens Apartment2 BHK Flat  For Rent  In Standalone Building  In Jayanagar 3rd Block East, JayanagarKitturu Rani Chennamma Sports Stadium, Jayanagar East, Jaya Nagar 1st Block, Bairasandra Extension, Jayanagar, BengaluruExplore Nearby2022-04-062 BHK Flat  For Rent  In Standalone Building  In Jayanagar 3rd Block East, JayanagarKitturu Rani Chennamma Sports Stadium, Jayanagar East, Jaya Nagar 1st Block, Bairasandra Extension, Jayanagar, Bengaluru2 BHK Flat  For Rent  In Standalone Building  In Jayanagar 3rd Block East, JayanagarJayanagar 3rd Block East, Jayanagarbangalore2 BHK Flat  For Rent  In Standalone Building  In Jayanagar 3rd Block East, JayanagarJayanagar 3rd Block East, JayanagarbangaloreREADY1,200 sqftBuiltup₹1,30,000Deposit₹ 16,000 +₹ 500MaintenanceRent (Negotiable)8 PhotosSemi furnishedFurnishingFurnish2 BHKApartment TypeFamilyPreferred Tenants06-Apr-2022Available FromGet Owner DetailsNearby: IBC Knowledge ParkMeghana FoodsInox TheatreCool JointLakkasandra3 BHK In Independent House  For Rent  In 17th D Cross RoadIndependent House, glenands pet store, CMH roadExplore Nearby2022-04-303 BHK In Independent House  For Rent  In 17th D Cross RoadIndependent House, glenands pet store, CMH road3 BHK In Independent House  For Rent  In 17th D Cross Road17th D Cross Roadbangalore3 BHK In Independent House  For Rent  In 17th D Cross Road17th D Cross RoadbangaloreREADY1,300 sqftBuiltup₹2,00,000Deposit₹ 25,000No Extra MaintenanceRent (Negotiable)31 PhotosSemi furnishedFurnishingFurnish3 BHKApartment TypeFamilyPreferred Tenants30-Apr-2022Available FromGet Owner DetailsNearby: Bagmane Tech ParkSunriver EGLToit Micro Brewery1 MG-Lido MallUlsoor Lake2 BHK In Independent House  For Rent  In Agrahara DasarahalliIndependent House, 9th C cross 6th Main Agrahara DasrahallyExplore Nearby2022-04-022 BHK In Independent House  For Rent  In Agrahara DasarahalliIndependent House, 9th C cross 6th Main Agrahara Dasrahally2 BHK In Independent House  For Rent  In Agrahara DasarahalliAgrahara Dasarahallibangalore2 BHK In Independent House  For Rent  In Agrahara DasarahalliAgrahara DasarahallibangaloreREADY600 sqftBuiltup₹50,000Deposit₹ 10,000 +₹ 500MaintenanceRent (Negotiable)16 PhotosUnfurnishedFurnishingFurnish2 BHKApartment TypeAllPreferred Tenants02-Apr-2022Available FromGet Owner DetailsNearby: DMartVeeresh CinemaAnjan CinemasSwathi RestaurantHosahalli Metro Station3 BHK In Independent House  For Rent  In RajajinagarIndependent House, Gayatrinagar, near Gayathri Nagara Post OfficeExplore Nearby2022-03-273 BHK In Independent House  For Rent  In RajajinagarIndependent House, Gayatrinagar, near Gayathri Nagara Post Office3 BHK In Independent House  For Rent  In RajajinagarRajajinagarbangalore3 BHK In Independent House  For Rent  In RajajinagarRajajinagarbangaloreREADY1,200 sqftBuiltup₹1,65,000Deposit₹ 16,500No Extra MaintenanceRent (Negotiable)9 PhotosSemi furnishedFurnishingFurnish3 BHKApartment TypeFamilyPreferred TenantsReady to MoveAvailable FromGet Owner DetailsNearby: World Trade CenterMantri Square MallPVRBig BazaarMalleswaram Railway Station2 BHK In Independent House  For Rent  In Jayanagar 3rd BlockIndependent House, 16th Main Rd,  Near Brilliance English SchoolExplore Nearby2022-03-202 BHK In Independent House  For Rent  In Jayanagar 3rd BlockIndependent House, 16th Main Rd,  Near Brilliance English School2 BHK In Independent House  For Rent  In Jayanagar 3rd BlockJayanagar 3rd Blockbangalore2 BHK In Independent House  For Rent  In Jayanagar 3rd BlockJayanagar 3rd BlockbangaloreREADY1,400 sqftBuiltup₹2,60,000Deposit₹ 26,000No Extra MaintenanceRent (Non-Negotiable)50 PhotosSemi furnishedFurnishingFurnish2 BHKApartment TypeFamilyPreferred TenantsReady to MoveAvailable FromGet Owner DetailsNearby: IBC Knowledge ParkMeghana FoodsInox TheatreCool JointLakkasandra2 BHK Flat  For Rent  In Space Heights In KodihalliSpace Heights,Explore Nearby2022-04-032 BHK Flat  For Rent  In Space Heights In KodihalliSpace Heights,2 BHK Flat  For Rent  In Space Heights In KodihalliKodihallibangalore2 BHK Flat  For Rent  In Space Heights In KodihalliKodihallibangaloreREADY900 sqftBuiltup₹1,00,000Deposit₹ 18,000No Extra MaintenanceRent (Negotiable)27 PhotosSemi furnishedFurnishingFurnish2 BHKApartment TypeAllPreferred Tenants03-Apr-2022Available FromGet Owner DetailsNearby: Embassy Golf LinksSunriver EGLToit Micro BreweryBarbeque NationDiamond District2 BHK Apartment  For Rent  In Comfort Manor In JayanagarComfort Manor\\xa0 SR Krishnappa Garden, Jayanagar, Bengaluru, Karnataka 560029, IndiaExplore Nearby2022-03-312 BHK Flat  For Rent  In Comfort Manor In JayanagarSR Krishnappa Garden, Jayanagar, Bengaluru, Karnataka 560029, India2 BHK Flat  For Rent  In Comfort Manor In JayanagarJayanagarbangalore5600412 BHK Flat  For Rent  In Comfort Manor In JayanagarJayanagarbangaloreREADY5600411,100 sqftBuiltup₹1,00,000Deposit₹ 18,000No Extra MaintenanceRent (Non-Negotiable)32 PhotosUnfurnishedFurnishingFurnish2 BHKApartment TypeFamilyPreferred TenantsReady to MoveAvailable FromGet Owner DetailsNearby: IBC Knowledge ParkThe Forum MallTrufflesPVRSG Palya3 BHK Apartment  For Rent  In Bhumika Classic In JayanagarBhumika Classic\\xa0 4th Main Road, Jayanagar East, Jaya Nagar 1st Block, Jaya Nagar East, Jayanagar, Bengaluru, Karnataka 560011, IndiaExplore Nearby2022-03-293 BHK Flat  For Rent  In Bhumika Classic In Jayanagar4th Main Road, Jayanagar East, Jaya Nagar 1st Block, Jaya Nagar East, Jayanagar, Bengaluru, Karnataka 560011, India3 BHK Flat  For Rent  In Bhumika Classic In JayanagarJayanagarbangalore3 BHK Flat  For Rent  In Bhumika Classic In JayanagarJayanagarbangaloreREADY1,400 sqftBuiltup₹3,60,000Deposit₹ 36,000 +₹ 2,500MaintenanceRent (Non-Negotiable)6 PhotosSemi furnishedFurnishingFurnish3 BHKApartment TypeAllPreferred TenantsReady to MoveAvailable FromGet Owner DetailsNearby: IBC Knowledge ParkMeghana FoodsCool JointMaiyas Beverages And Foods Private LimitedSG Palya2 BHK Flat  For Rent  In Stand Alone Building  In Rajaji Nagar2064/A, #23.8th main, 2nd stage ,E block near East West Public School, Explore Nearby2022-03-292 BHK Flat  For Rent  In Stand Alone Building  In Rajaji Nagar2064/A, #23.8th main, 2nd stage ,E block near East West Public School, 2 BHK Flat  For Rent  In Stand Alone Building  In Rajaji NagarRajaji Nagarbangalore2 BHK Flat  For Rent  In Stand Alone Building  In Rajaji NagarRajaji NagarbangaloreREADY700 sqftBuiltup₹2,00,000Deposit₹ 18,000 +₹ 800MaintenanceRent (Negotiable)10 PhotosSemi furnishedFurnishingFurnish2 BHKApartment TypeFamilyPreferred TenantsReady to MoveAvailable FromGet Owner DetailsNearby: World Trade CenterPVRBig BazaarMETROMalleswaram Railway Station4+ BHK In Independent House  For Rent  In Rajaji NagarIndependent House,  5th Block Near National Public School , 66TH CROSSExplore Nearby2022-03-304+ BHK In Independent House  For Rent  In Rajaji NagarIndependent House,  5th Block Near National Public School , 66TH CROSS4+ BHK In Independent House  For Rent  In Rajaji NagarRajaji Nagarbangalore4+ BHK In Independent House  For Rent  In Rajaji NagarRajaji NagarbangaloreREADY2,500 sqftBuiltup₹6,00,000Deposit₹ 47,000No Extra MaintenanceRent (Non-Negotiable)10 PhotosSemi furnishedFurnishingFurnish4+ BHKApartment TypeFamilyPreferred TenantsReady to MoveAvailable FromGet Owner DetailsNearby: DMartVeeresh CinemaAnjan CinemasHotel NalapakaHosahalli Metro Station1 RK Flat  For Rent  In Mahalasa Mansion In Jayanagar 4th BlockBannerghatta Main Rd, NAL Layout, 4th T Block Easten main road,  Near  Jal Bhavan BangaloreExplore Nearby2022-03-211 RK Flat  For Rent  In Mahalasa Mansion In Jayanagar 4th BlockBannerghatta Main Rd, NAL Layout, 4th T Block Easten main road,  Near  Jal Bhavan Bangalore1 RK Flat  For Rent  In Mahalasa Mansion In Jayanagar 4th BlockJayanagar 4Th Blockbangalore5600411 RK Flat  For Rent  In Mahalasa Mansion In Jayanagar 4th BlockJayanagar 4Th BlockbangaloreREADY560041300 sqftBuiltup₹80,000Deposit₹ 10,000No Extra MaintenanceRent (Negotiable)5 PhotosSemi furnishedFurnishingFurnish1 RKApartment TypeBachelorPreferred TenantsReady to MoveAvailable FromGet Owner DetailsNearby: IBC Knowledge ParkKalyani Magnum Infotech ParkThe Forum MallTrufflesSG Palya2 BHK Flat  For Rent  In Jayanagar 4th Blockstandalone building, 29,1st Cross,Jalabhavan layout,4thTBlock, east end main road Jayanagar,Bangalore-560041Explore Nearby2022-03-232 BHK Flat  For Rent  In Jayanagar 4th Blockstandalone building, 29,1st Cross,Jalabhavan layout,4thTBlock, east end main road Jayanagar,Bangalore-5600412 BHK Flat  For Rent  In Jayanagar 4th BlockJayanagar 4Th Blockbangalore2 BHK Flat  For Rent  In Jayanagar 4th BlockJayanagar 4Th BlockbangaloreREADY1,250 sqftBuiltup₹2,00,000Deposit₹ 24,000 +₹ 1,800MaintenanceRent (Negotiable)11 PhotosSemi furnishedFurnishingFurnish2 BHKApartment TypeFamilyPreferred TenantsReady to MoveAvailable FromGet Owner DetailsNearby: IBC Knowledge ParkKalyani Magnum Infotech ParkThe Forum MallTrufflesSG Palya2 BHK In Independent House  For Rent  In Basaveshwara Nagar Independent House,  Indra Colony, Agrahara Dasarahalli, Basaveshwar Nagar, Bengaluru, Karnataka 560079Explore Nearby2022-03-302 BHK In Independent House  For Rent  In Basaveshwara Nagar Independent House,  Indra Colony, Agrahara Dasarahalli, Basaveshwar Nagar, Bengaluru, Karnataka 5600792 BHK In Independent House  For Rent  In Basaveshwara Nagar Basaveshwara Nagar bangalore2 BHK In Independent House  For Rent  In Basaveshwara Nagar Basaveshwara Nagar bangaloreREADY1,000 sqftBuiltup₹50,000Deposit₹ 14,500No Extra MaintenanceRent (Non-Negotiable)19 PhotosFully furnishedFurnishing2 BHKApartment TypeBachelorPreferred TenantsReady to MoveAvailable FromGet Owner DetailsNearby: DMartVeeresh CinemaPrasanna TheatreNew Shanthi SagarHosahalli Metro Station2 BHK Flat  For Rent  In Nandhagokula In JayanagarJaynagar 8th blk Metro Pillar EP-22 Explore Nearby2022-03-302 BHK Flat  For Rent  In Nandhagokula In JayanagarJaynagar 8th blk Metro Pillar EP-22 2 BHK Flat  For Rent  In Nandhagokula In JayanagarJayanagarbangalore2 BHK Flat  For Rent  In Nandhagokula In JayanagarJayanagarbangaloreREADY800 sqftBuiltup₹2,20,000Deposit₹ 21,500No Extra MaintenanceRent (Non-Negotiable)9 PhotosSemi furnishedFurnishingFurnish2 BHKApartment TypeAllPreferred TenantsReady to MoveAvailable FromGet Owner DetailsNearby: Kalyani Magnum Infotech ParkMeghana FoodsInox TheatreCool JointSarakki Signal B S1 RK In Independent House  For Rent  In 7th Cross Road, RajajinagarIndependent House, shell petrolExplore Nearby2022-04-051 RK In Independent House  For Rent  In 7th Cross Road, RajajinagarIndependent House, shell petrol1 RK In Independent House  For Rent  In 7th Cross Road, Rajajinagar7th Cross Road, Rajajinagarbangalore1 RK In Independent House  For Rent  In 7th Cross Road, Rajajinagar7th Cross Road, RajajinagarbangaloreREADY600 sqftBuiltup₹1,00,000Deposit₹ 9,500 +₹ 500MaintenanceRent (Non-Negotiable)5 PhotosSemi furnishedFurnishingFurnish1 RKApartment TypeFamilyPreferred Tenants05-Apr-2022Available FromGet Owner DetailsNearby: DMartVeeresh CinemaAnjan CinemasGolden HeightsHosahalli Metro Station3 BHK In Independent House  For Rent  In Sr Krishnappa Garden, JayanagarIndependent House, SR Krishnappa Garden, Jayanagar, Bengaluru, Karnataka 560041, IndiaExplore Nearby2022-03-303 BHK In Independent House  For Rent  In Sr Krishnappa Garden, JayanagarIndependent House, SR Krishnappa Garden, Jayanagar, Bengaluru, Karnataka 560041, India3 BHK In Independent House  For Rent  In Sr Krishnappa Garden, JayanagarSR Krishnappa Garden, Jayanagarbangalore3 BHK In Independent House  For Rent  In Sr Krishnappa Garden, JayanagarSR Krishnappa Garden, JayanagarbangaloreREADY1,400 sqftBuiltup₹2,00,000Deposit₹ 24,000 +₹ 2,000MaintenanceRent (Negotiable)8 PhotosSemi furnishedFurnishingFurnish3 BHKApartment TypeAllPreferred TenantsReady to MoveAvailable FromGet Owner DetailsNearby: IBC Knowledge ParkThe Forum MallTrufflesPVRSG Palya2 BHK Apartment  For Rent  In JayanagarIndependent House\\xa0 Independent House, opposite to Olive apartments.\\\\, Near City Education Society C.E.S English SchoolExplore Nearby2022-03-232 BHK Flat  For Rent  In JayanagarIndependent House, opposite to Olive apartments.\\\\, Near City Education Society C.E.S English School2 BHK Flat  For Rent  In JayanagarJayanagarbangalore2 BHK Flat  For Rent  In JayanagarJayanagarbangaloreREADY1,200 sqftBuiltup₹2,50,000Deposit₹ 28,500No Extra MaintenanceRent (Negotiable)Request For PhotosFully furnishedFurnishing2 BHKApartment TypeAllPreferred TenantsReady to MoveAvailable FromGet Owner DetailsNearby: IBC Knowledge ParkVidyarthi BhavanUrvashi TheaterMTRLalbagh Botanical Garden2 BHK Flat  For Rent  In Manjunatha Nilayam In Rajaji Nagar2nd Stage, Near Gayatri Nagar Post OfficeExplore Nearby2022-01-312 BHK Flat  For Rent  In Manjunatha Nilayam In Rajaji Nagar2nd Stage, Near Gayatri Nagar Post Office2 BHK Flat  For Rent  In Manjunatha Nilayam In Rajaji NagarRajaji Nagarbangalore5600212 BHK Flat  For Rent  In Manjunatha Nilayam In Rajaji NagarRajaji NagarbangaloreREADY560021950 sqftBuiltup₹1,20,000Deposit₹ 15,000 +₹ 500MaintenanceRent (Negotiable)11 PhotosSemi furnishedFurnishingFurnish2 BHKApartment TypeAllPreferred TenantsReady to MoveAvailable FromGet Owner DetailsNearby: World Trade CenterMantri Square MallPVRBig BazaarMalleswaram Railway Station2 BHK Flat  For Rent  In Basavanagudistandalone building, Basavanagudi Near Tata Silk FarmExplore Nearby2022-03-302 BHK Flat  For Rent  In Basavanagudistandalone building, Basavanagudi Near Tata Silk Farm2 BHK Flat  For Rent  In BasavanagudiBasavanagudibangalore5600702 BHK Flat  For Rent  In BasavanagudiBasavanagudibangaloreREADY560070850 sqftBuiltup₹1,00,000Deposit₹ 16,000No Extra MaintenanceRent (Negotiable)8 PhotosSemi furnishedFurnishingFurnish2 BHKApartment TypeAllPreferred TenantsReady to MoveAvailable FromGet Owner DetailsNearby: Vidyarthi BhavanMeghana FoodsCool JointShivaji Military HotelNR Colony3 BHK In Independent House  For Rent  In IndiranagarIndependent House, Near Indiranagar Metro Station, Chinmaya Mission Hospital Road, Stage 2, Stage 1, Indiranagar, Bengaluru, Karnataka, IndiaExplore Nearby2022-03-313 BHK In Independent House  For Rent  In IndiranagarIndependent House, Near Indiranagar Metro Station, Chinmaya Mission Hospital Road, Stage 2, Stage 1, Indiranagar, Bengaluru, Karnataka, India3 BHK In Independent House  For Rent  In IndiranagarIndiranagarbangalore3 BHK In Independent House  For Rent  In IndiranagarIndiranagarbangaloreREADY3,500 sqftBuiltup₹2,50,000Deposit₹ 80,000No Extra MaintenanceRent (Non-Negotiable)22 PhotosSemi furnishedFurnishingFurnish3 BHKApartment TypeAllPreferred TenantsReady to MoveAvailable FromGet Owner DetailsNearby: Bagmane Tech ParkRMZ InfinityToit Micro BreweryBarbeque NationBaiyappanahalli Metro Station2 BHK Flat  For Rent  In Pearl Regal Apartments In Indira Nagarnew horizon school Explore Nearby2022-03-312 BHK Flat  For Rent  In Pearl Regal Apartments In Indira Nagarnew horizon school 2 BHK Flat  For Rent  In Pearl Regal Apartments In Indira NagarIndira Nagarbangalore2 BHK Flat  For Rent  In Pearl Regal Apartments In Indira NagarIndira NagarbangaloreREADY1,200 sqftBuiltup₹1,00,000Deposit₹ 30,000 +₹ 3,000MaintenanceRent (Negotiable)13 PhotosSemi furnishedFurnishingFurnish2 BHKApartment TypeAllPreferred TenantsReady to MoveAvailable FromGet Owner DetailsNearby: Bagmane Tech ParkRMZ InfinityToit Micro BreweryBarbeque NationBaiyappanahalli Metro Station3 BHK In Independent House  For Rent  In JayanagarIndependent House, Kanakapura Rd, near CANARA BANKExplore Nearby2022-03-273 BHK In Independent House  For Rent  In JayanagarIndependent House, Kanakapura Rd, near CANARA BANK3 BHK In Independent House  For Rent  In JayanagarJayanagarbangalore3 BHK In Independent House  For Rent  In JayanagarJayanagarbangaloreREADY1,100 sqftBuiltup₹2,00,000Deposit₹ 25,000No Extra MaintenanceRent (Non-Negotiable)15 PhotosSemi furnishedFurnishingFurnish3 BHKApartment TypeAllPreferred TenantsReady to MoveAvailable FromGet Owner DetailsNearby: IBC Knowledge ParkVidyarthi BhavanMeghana FoodsCool JointNR Colony2 BHK Flat  For Rent  In Shanthi Park Apartments In Jayanagara 9th Block, JayanagarCafe Utopia, Front of Croma, Kottapalya,Explore Nearby2022-03-282 BHK Flat  For Rent  In Shanthi Park Apartments In Jayanagara 9th Block, JayanagarCafe Utopia, Front of Croma, Kottapalya,2 BHK Flat  For Rent  In Shanthi Park Apartments In Jayanagara 9th Block, JayanagarJayanagara 9th Block, Jayanagarbangalore2 BHK Flat  For Rent  In Shanthi Park Apartments In Jayanagara 9th Block, JayanagarJayanagara 9th Block, JayanagarbangaloreREADY1,100 sqftBuiltup₹2,00,000Deposit₹ 20,000 +₹ 2,000MaintenanceRent (Non-Negotiable)6 PhotosSemi furnishedFurnishingFurnish2 BHKApartment TypeFamilyPreferred TenantsReady to MoveAvailable FromGet Owner DetailsNearby: IBC Knowledge ParkKalyani Magnum Infotech ParkLakshmi TheatreMeghana FoodsMantri EliteQuick linksPeople also searched forFlats in  Basavanagudi  for rentFlats in  Hombegowda Nagar  for rentFlats in  Jayanagar  for rentFlats in  Shankarapuram  for rentFlats in  Banashankari Temple Ward  for rentFlats in  Wilson Garden  for rent\\n\\n\\n\\n\\n\\n\\n\\n\\n\\n\\n\\n\\n\\n\\n\\n\\n\\n\\n\\n\\n\\n\\n\\n\\n\\n\\n\\n\\n\\nIf you're seeing this message, that means JavaScript has been disabled on your browser, please enable JS to make this app work.\""
      ]
     },
     "execution_count": 5,
     "metadata": {},
     "output_type": "execute_result"
    }
   ],
   "source": [
    "soup = BeautifulSoup(url.content)\n",
    "soup.text.strip()\n"
   ]
  },
  {
   "cell_type": "code",
   "execution_count": 22,
   "metadata": {},
   "outputs": [
    {
     "data": {
      "text/plain": [
       "25"
      ]
     },
     "execution_count": 22,
     "metadata": {},
     "output_type": "execute_result"
    }
   ],
   "source": [
    "headings = []\n",
    "for heading in soup.findAll(\"h2\" ,class_ = 'heading-6 flex items-center font-semi-bold m-0'):\n",
    "    headings.append(heading.text)\n",
    "len(headings)"
   ]
  },
  {
   "cell_type": "code",
   "execution_count": 21,
   "metadata": {},
   "outputs": [
    {
     "data": {
      "text/plain": [
       "25"
      ]
     },
     "execution_count": 21,
     "metadata": {},
     "output_type": "execute_result"
    }
   ],
   "source": [
    "emi_ = []\n",
    "for emi in soup.findAll(\"div\",class_ ='flex flex-col w-33pe items-center bo tp:w-half po:w-full border-r-0'):\n",
    "    emi_.append(emi.text.replace('Extra MaintenanceRent (Negotiable)','').strip())\n",
    "len(emi_)"
   ]
  },
  {
   "cell_type": "code",
   "execution_count": 19,
   "metadata": {},
   "outputs": [],
   "source": [
    "location = []\n",
    "for loc in soup.findAll(\"div\",class_ = \"mt-0.5p overflow-hidden overflow-ellipsis whitespace-nowrap max-w-70 text-gray-light leading-4 po:mb-0 po:max-w-95\"):\n",
    "    location.append(loc.text)"
   ]
  },
  {
   "cell_type": "code",
   "execution_count": 23,
   "metadata": {},
   "outputs": [
    {
     "data": {
      "text/plain": [
       "25"
      ]
     },
     "execution_count": 23,
     "metadata": {},
     "output_type": "execute_result"
    }
   ],
   "source": [
    "len(location)"
   ]
  },
  {
   "cell_type": "code",
   "execution_count": 27,
   "metadata": {},
   "outputs": [
    {
     "data": {
      "text/html": [
       "<div>\n",
       "<style scoped>\n",
       "    .dataframe tbody tr th:only-of-type {\n",
       "        vertical-align: middle;\n",
       "    }\n",
       "\n",
       "    .dataframe tbody tr th {\n",
       "        vertical-align: top;\n",
       "    }\n",
       "\n",
       "    .dataframe thead th {\n",
       "        text-align: right;\n",
       "    }\n",
       "</style>\n",
       "<table border=\"1\" class=\"dataframe\">\n",
       "  <thead>\n",
       "    <tr style=\"text-align: right;\">\n",
       "      <th></th>\n",
       "      <th>Name of the Building</th>\n",
       "      <th>Location</th>\n",
       "      <th>EMI amount</th>\n",
       "    </tr>\n",
       "  </thead>\n",
       "  <tbody>\n",
       "    <tr>\n",
       "      <th>0</th>\n",
       "      <td>2 BHK Flat  For Rent  In Olive Apartment In Ja...</td>\n",
       "      <td>Swagath Rd, 3rd Block East, LIC Colonyn behind...</td>\n",
       "      <td>₹ 27,000No</td>\n",
       "    </tr>\n",
       "    <tr>\n",
       "      <th>1</th>\n",
       "      <td>2 BHK Flat  For Rent  In 10th C Main Road, Raj...</td>\n",
       "      <td>Standalone building, Gubbanna Ground, 1st Main...</td>\n",
       "      <td>₹ 25,000No</td>\n",
       "    </tr>\n",
       "    <tr>\n",
       "      <th>2</th>\n",
       "      <td>2 BHK Flat  For Rent  In Standalone Building  ...</td>\n",
       "      <td>Kitturu Rani Chennamma Sports Stadium, Jayanag...</td>\n",
       "      <td>₹ 16,000 +₹ 500MaintenanceRent (Negotiable)</td>\n",
       "    </tr>\n",
       "    <tr>\n",
       "      <th>3</th>\n",
       "      <td>3 BHK In Independent House  For Rent  In 17th ...</td>\n",
       "      <td>Independent House, glenands pet store, CMH road</td>\n",
       "      <td>₹ 25,000No</td>\n",
       "    </tr>\n",
       "    <tr>\n",
       "      <th>4</th>\n",
       "      <td>2 BHK In Independent House  For Rent  In Agrah...</td>\n",
       "      <td>Independent House, 9th C cross 6th Main Agraha...</td>\n",
       "      <td>₹ 10,000 +₹ 500MaintenanceRent (Negotiable)</td>\n",
       "    </tr>\n",
       "    <tr>\n",
       "      <th>5</th>\n",
       "      <td>3 BHK In Independent House  For Rent  In Rajaj...</td>\n",
       "      <td>Independent House, Gayatrinagar, near Gayathri...</td>\n",
       "      <td>₹ 16,500No</td>\n",
       "    </tr>\n",
       "    <tr>\n",
       "      <th>6</th>\n",
       "      <td>2 BHK In Independent House  For Rent  In Jayan...</td>\n",
       "      <td>Independent House, 16th Main Rd,  Near Brillia...</td>\n",
       "      <td>₹ 26,000No Extra MaintenanceRent (Non-Negotiable)</td>\n",
       "    </tr>\n",
       "    <tr>\n",
       "      <th>7</th>\n",
       "      <td>2 BHK Flat  For Rent  In Space Heights In Kodi...</td>\n",
       "      <td>Space Heights,</td>\n",
       "      <td>₹ 18,000No</td>\n",
       "    </tr>\n",
       "    <tr>\n",
       "      <th>8</th>\n",
       "      <td>2 BHK Apartment  For Rent  In Comfort Manor In...</td>\n",
       "      <td>Comfort Manor  SR Krishnappa Garden, Jayanagar...</td>\n",
       "      <td>₹ 18,000No Extra MaintenanceRent (Non-Negotiable)</td>\n",
       "    </tr>\n",
       "    <tr>\n",
       "      <th>9</th>\n",
       "      <td>3 BHK Apartment  For Rent  In Bhumika Classic ...</td>\n",
       "      <td>Bhumika Classic  4th Main Road, Jayanagar East...</td>\n",
       "      <td>₹ 36,000 +₹ 2,500MaintenanceRent (Non-Negotiable)</td>\n",
       "    </tr>\n",
       "    <tr>\n",
       "      <th>10</th>\n",
       "      <td>2 BHK Flat  For Rent  In Stand Alone Building ...</td>\n",
       "      <td>2064/A, #23.8th main, 2nd stage ,E block near ...</td>\n",
       "      <td>₹ 18,000 +₹ 800MaintenanceRent (Negotiable)</td>\n",
       "    </tr>\n",
       "    <tr>\n",
       "      <th>11</th>\n",
       "      <td>4+ BHK In Independent House  For Rent  In Raja...</td>\n",
       "      <td>Independent House,  5th Block Near National Pu...</td>\n",
       "      <td>₹ 47,000No Extra MaintenanceRent (Non-Negotiable)</td>\n",
       "    </tr>\n",
       "    <tr>\n",
       "      <th>12</th>\n",
       "      <td>1 RK Flat  For Rent  In Mahalasa Mansion In Ja...</td>\n",
       "      <td>Bannerghatta Main Rd, NAL Layout, 4th T Block ...</td>\n",
       "      <td>₹ 10,000No</td>\n",
       "    </tr>\n",
       "    <tr>\n",
       "      <th>13</th>\n",
       "      <td>2 BHK Flat  For Rent  In Jayanagar 4th Block</td>\n",
       "      <td>standalone building, 29,1st Cross,Jalabhavan l...</td>\n",
       "      <td>₹ 24,000 +₹ 1,800MaintenanceRent (Negotiable)</td>\n",
       "    </tr>\n",
       "    <tr>\n",
       "      <th>14</th>\n",
       "      <td>2 BHK In Independent House  For Rent  In Basav...</td>\n",
       "      <td>Independent House,  Indra Colony, Agrahara Das...</td>\n",
       "      <td>₹ 14,500No Extra MaintenanceRent (Non-Negotiable)</td>\n",
       "    </tr>\n",
       "    <tr>\n",
       "      <th>15</th>\n",
       "      <td>2 BHK Flat  For Rent  In Nandhagokula In Jayan...</td>\n",
       "      <td>Jaynagar 8th blk Metro Pillar EP-22</td>\n",
       "      <td>₹ 21,500No Extra MaintenanceRent (Non-Negotiable)</td>\n",
       "    </tr>\n",
       "    <tr>\n",
       "      <th>16</th>\n",
       "      <td>1 RK In Independent House  For Rent  In 7th Cr...</td>\n",
       "      <td>Independent House, shell petrol</td>\n",
       "      <td>₹ 9,500 +₹ 500MaintenanceRent (Non-Negotiable)</td>\n",
       "    </tr>\n",
       "    <tr>\n",
       "      <th>17</th>\n",
       "      <td>3 BHK In Independent House  For Rent  In Sr Kr...</td>\n",
       "      <td>Independent House, SR Krishnappa Garden, Jayan...</td>\n",
       "      <td>₹ 24,000 +₹ 2,000MaintenanceRent (Negotiable)</td>\n",
       "    </tr>\n",
       "    <tr>\n",
       "      <th>18</th>\n",
       "      <td>2 BHK Apartment  For Rent  In Jayanagar</td>\n",
       "      <td>Independent House  Independent House, opposite...</td>\n",
       "      <td>₹ 28,500No</td>\n",
       "    </tr>\n",
       "    <tr>\n",
       "      <th>19</th>\n",
       "      <td>2 BHK Flat  For Rent  In Manjunatha Nilayam In...</td>\n",
       "      <td>2nd Stage, Near Gayatri Nagar Post Office</td>\n",
       "      <td>₹ 15,000 +₹ 500MaintenanceRent (Negotiable)</td>\n",
       "    </tr>\n",
       "    <tr>\n",
       "      <th>20</th>\n",
       "      <td>2 BHK Flat  For Rent  In Basavanagudi</td>\n",
       "      <td>standalone building, Basavanagudi Near Tata Si...</td>\n",
       "      <td>₹ 16,000No</td>\n",
       "    </tr>\n",
       "    <tr>\n",
       "      <th>21</th>\n",
       "      <td>3 BHK In Independent House  For Rent  In Indir...</td>\n",
       "      <td>Independent House, Near Indiranagar Metro Stat...</td>\n",
       "      <td>₹ 80,000No Extra MaintenanceRent (Non-Negotiable)</td>\n",
       "    </tr>\n",
       "    <tr>\n",
       "      <th>22</th>\n",
       "      <td>2 BHK Flat  For Rent  In Pearl Regal Apartment...</td>\n",
       "      <td>new horizon school</td>\n",
       "      <td>₹ 30,000 +₹ 3,000MaintenanceRent (Negotiable)</td>\n",
       "    </tr>\n",
       "    <tr>\n",
       "      <th>23</th>\n",
       "      <td>3 BHK In Independent House  For Rent  In Jayan...</td>\n",
       "      <td>Independent House, Kanakapura Rd, near CANARA ...</td>\n",
       "      <td>₹ 25,000No Extra MaintenanceRent (Non-Negotiable)</td>\n",
       "    </tr>\n",
       "    <tr>\n",
       "      <th>24</th>\n",
       "      <td>2 BHK Flat  For Rent  In Shanthi Park Apartmen...</td>\n",
       "      <td>Cafe Utopia, Front of Croma, Kottapalya,</td>\n",
       "      <td>₹ 20,000 +₹ 2,000MaintenanceRent (Non-Negotiable)</td>\n",
       "    </tr>\n",
       "  </tbody>\n",
       "</table>\n",
       "</div>"
      ],
      "text/plain": [
       "                                 Name of the Building  \\\n",
       "0   2 BHK Flat  For Rent  In Olive Apartment In Ja...   \n",
       "1   2 BHK Flat  For Rent  In 10th C Main Road, Raj...   \n",
       "2   2 BHK Flat  For Rent  In Standalone Building  ...   \n",
       "3   3 BHK In Independent House  For Rent  In 17th ...   \n",
       "4   2 BHK In Independent House  For Rent  In Agrah...   \n",
       "5   3 BHK In Independent House  For Rent  In Rajaj...   \n",
       "6   2 BHK In Independent House  For Rent  In Jayan...   \n",
       "7   2 BHK Flat  For Rent  In Space Heights In Kodi...   \n",
       "8   2 BHK Apartment  For Rent  In Comfort Manor In...   \n",
       "9   3 BHK Apartment  For Rent  In Bhumika Classic ...   \n",
       "10  2 BHK Flat  For Rent  In Stand Alone Building ...   \n",
       "11  4+ BHK In Independent House  For Rent  In Raja...   \n",
       "12  1 RK Flat  For Rent  In Mahalasa Mansion In Ja...   \n",
       "13       2 BHK Flat  For Rent  In Jayanagar 4th Block   \n",
       "14  2 BHK In Independent House  For Rent  In Basav...   \n",
       "15  2 BHK Flat  For Rent  In Nandhagokula In Jayan...   \n",
       "16  1 RK In Independent House  For Rent  In 7th Cr...   \n",
       "17  3 BHK In Independent House  For Rent  In Sr Kr...   \n",
       "18            2 BHK Apartment  For Rent  In Jayanagar   \n",
       "19  2 BHK Flat  For Rent  In Manjunatha Nilayam In...   \n",
       "20              2 BHK Flat  For Rent  In Basavanagudi   \n",
       "21  3 BHK In Independent House  For Rent  In Indir...   \n",
       "22  2 BHK Flat  For Rent  In Pearl Regal Apartment...   \n",
       "23  3 BHK In Independent House  For Rent  In Jayan...   \n",
       "24  2 BHK Flat  For Rent  In Shanthi Park Apartmen...   \n",
       "\n",
       "                                             Location  \\\n",
       "0   Swagath Rd, 3rd Block East, LIC Colonyn behind...   \n",
       "1   Standalone building, Gubbanna Ground, 1st Main...   \n",
       "2   Kitturu Rani Chennamma Sports Stadium, Jayanag...   \n",
       "3     Independent House, glenands pet store, CMH road   \n",
       "4   Independent House, 9th C cross 6th Main Agraha...   \n",
       "5   Independent House, Gayatrinagar, near Gayathri...   \n",
       "6   Independent House, 16th Main Rd,  Near Brillia...   \n",
       "7                                      Space Heights,   \n",
       "8   Comfort Manor  SR Krishnappa Garden, Jayanagar...   \n",
       "9   Bhumika Classic  4th Main Road, Jayanagar East...   \n",
       "10  2064/A, #23.8th main, 2nd stage ,E block near ...   \n",
       "11  Independent House,  5th Block Near National Pu...   \n",
       "12  Bannerghatta Main Rd, NAL Layout, 4th T Block ...   \n",
       "13  standalone building, 29,1st Cross,Jalabhavan l...   \n",
       "14  Independent House,  Indra Colony, Agrahara Das...   \n",
       "15               Jaynagar 8th blk Metro Pillar EP-22    \n",
       "16                    Independent House, shell petrol   \n",
       "17  Independent House, SR Krishnappa Garden, Jayan...   \n",
       "18  Independent House  Independent House, opposite...   \n",
       "19          2nd Stage, Near Gayatri Nagar Post Office   \n",
       "20  standalone building, Basavanagudi Near Tata Si...   \n",
       "21  Independent House, Near Indiranagar Metro Stat...   \n",
       "22                                new horizon school    \n",
       "23  Independent House, Kanakapura Rd, near CANARA ...   \n",
       "24           Cafe Utopia, Front of Croma, Kottapalya,   \n",
       "\n",
       "                                           EMI amount  \n",
       "0                                          ₹ 27,000No  \n",
       "1                                          ₹ 25,000No  \n",
       "2         ₹ 16,000 +₹ 500MaintenanceRent (Negotiable)  \n",
       "3                                          ₹ 25,000No  \n",
       "4         ₹ 10,000 +₹ 500MaintenanceRent (Negotiable)  \n",
       "5                                          ₹ 16,500No  \n",
       "6   ₹ 26,000No Extra MaintenanceRent (Non-Negotiable)  \n",
       "7                                          ₹ 18,000No  \n",
       "8   ₹ 18,000No Extra MaintenanceRent (Non-Negotiable)  \n",
       "9   ₹ 36,000 +₹ 2,500MaintenanceRent (Non-Negotiable)  \n",
       "10        ₹ 18,000 +₹ 800MaintenanceRent (Negotiable)  \n",
       "11  ₹ 47,000No Extra MaintenanceRent (Non-Negotiable)  \n",
       "12                                         ₹ 10,000No  \n",
       "13      ₹ 24,000 +₹ 1,800MaintenanceRent (Negotiable)  \n",
       "14  ₹ 14,500No Extra MaintenanceRent (Non-Negotiable)  \n",
       "15  ₹ 21,500No Extra MaintenanceRent (Non-Negotiable)  \n",
       "16     ₹ 9,500 +₹ 500MaintenanceRent (Non-Negotiable)  \n",
       "17      ₹ 24,000 +₹ 2,000MaintenanceRent (Negotiable)  \n",
       "18                                         ₹ 28,500No  \n",
       "19        ₹ 15,000 +₹ 500MaintenanceRent (Negotiable)  \n",
       "20                                         ₹ 16,000No  \n",
       "21  ₹ 80,000No Extra MaintenanceRent (Non-Negotiable)  \n",
       "22      ₹ 30,000 +₹ 3,000MaintenanceRent (Negotiable)  \n",
       "23  ₹ 25,000No Extra MaintenanceRent (Non-Negotiable)  \n",
       "24  ₹ 20,000 +₹ 2,000MaintenanceRent (Non-Negotiable)  "
      ]
     },
     "execution_count": 27,
     "metadata": {},
     "output_type": "execute_result"
    }
   ],
   "source": [
    "\n",
    "df = pd.DataFrame({'Name of the Building':headings,'Location':location,'EMI amount':emi_})\n",
    "df                   "
   ]
  },
  {
   "cell_type": "code",
   "execution_count": null,
   "metadata": {},
   "outputs": [],
   "source": []
  }
 ],
 "metadata": {
  "kernelspec": {
   "display_name": "Python 3",
   "language": "python",
   "name": "python3"
  },
  "language_info": {
   "codemirror_mode": {
    "name": "ipython",
    "version": 3
   },
   "file_extension": ".py",
   "mimetype": "text/x-python",
   "name": "python",
   "nbconvert_exporter": "python",
   "pygments_lexer": "ipython3",
   "version": "3.8.5"
  }
 },
 "nbformat": 4,
 "nbformat_minor": 4
}
