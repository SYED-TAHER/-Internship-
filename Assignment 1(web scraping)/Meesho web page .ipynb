{
 "cells": [
  {
   "cell_type": "code",
   "execution_count": 1,
   "metadata": {},
   "outputs": [
    {
     "name": "stdout",
     "output_type": "stream",
     "text": [
      "Requirement already satisfied: bs4 in c:\\users\\91832\\anaconda3\\lib\\site-packages (0.0.1)\n",
      "Requirement already satisfied: beautifulsoup4 in c:\\users\\91832\\anaconda3\\lib\\site-packages (from bs4) (4.9.3)\n",
      "Requirement already satisfied: soupsieve>1.2; python_version >= \"3.0\" in c:\\users\\91832\\anaconda3\\lib\\site-packages (from beautifulsoup4->bs4) (2.0.1)\n"
     ]
    }
   ],
   "source": [
    "!pip install bs4"
   ]
  },
  {
   "cell_type": "code",
   "execution_count": 2,
   "metadata": {},
   "outputs": [],
   "source": [
    "!pip install requests --upgrade --quiet\n",
    "import requests\n",
    "from bs4 import BeautifulSoup "
   ]
  },
  {
   "cell_type": "code",
   "execution_count": 3,
   "metadata": {},
   "outputs": [],
   "source": [
    "page = requests.get('https://meesho.com/bags-ladies/pl/p7vbp')"
   ]
  },
  {
   "cell_type": "code",
   "execution_count": 4,
   "metadata": {},
   "outputs": [
    {
     "data": {
      "text/plain": [
       "<Response [200]>"
      ]
     },
     "execution_count": 4,
     "metadata": {},
     "output_type": "execute_result"
    }
   ],
   "source": [
    "page"
   ]
  },
  {
   "cell_type": "code",
   "execution_count": 5,
   "metadata": {},
   "outputs": [],
   "source": [
    "bag = BeautifulSoup(page.content)"
   ]
  },
  {
   "cell_type": "code",
   "execution_count": 6,
   "metadata": {},
   "outputs": [
    {
     "data": {
      "text/plain": [
       "'Voguish Classy Women Handbags'"
      ]
     },
     "execution_count": 6,
     "metadata": {},
     "output_type": "execute_result"
    }
   ],
   "source": [
    "name = bag.find_all(\"p\",color=\"greyT2\")\n",
    "name[4].text.strip()\n"
   ]
  },
  {
   "cell_type": "code",
   "execution_count": 7,
   "metadata": {},
   "outputs": [],
   "source": [
    "name_ = []\n",
    "for name in bag.find_all(\"p\",color=\"greyT2\"):\n",
    "     name_.append(name.text.strip())"
   ]
  },
  {
   "cell_type": "code",
   "execution_count": 8,
   "metadata": {},
   "outputs": [
    {
     "data": {
      "text/plain": [
       "20"
      ]
     },
     "execution_count": 8,
     "metadata": {},
     "output_type": "execute_result"
    }
   ],
   "source": [
    "len(name_[::2])\n"
   ]
  },
  {
   "cell_type": "code",
   "execution_count": 9,
   "metadata": {},
   "outputs": [
    {
     "data": {
      "text/plain": [
       "'₹584'"
      ]
     },
     "execution_count": 9,
     "metadata": {},
     "output_type": "execute_result"
    }
   ],
   "source": [
    "price = bag.find(\"h5\",color='greyBase')\n",
    "price.text\n"
   ]
  },
  {
   "cell_type": "code",
   "execution_count": 10,
   "metadata": {},
   "outputs": [
    {
     "data": {
      "text/plain": [
       "['₹584',\n",
       " '₹374',\n",
       " '₹384',\n",
       " '₹185',\n",
       " '₹534',\n",
       " '₹426',\n",
       " '₹145',\n",
       " '₹484',\n",
       " '₹323',\n",
       " '₹281',\n",
       " '₹263',\n",
       " '₹336',\n",
       " '₹234',\n",
       " '₹610',\n",
       " '₹1223',\n",
       " '₹565',\n",
       " '₹70',\n",
       " '₹746',\n",
       " '₹611',\n",
       " '₹693']"
      ]
     },
     "execution_count": 10,
     "metadata": {},
     "output_type": "execute_result"
    }
   ],
   "source": [
    "price_= []\n",
    "for price in bag.find_all(\"h5\",color='greyBase'):\n",
    "    price_.append(price.text)\n",
    "price_\n"
   ]
  },
  {
   "cell_type": "code",
   "execution_count": 14,
   "metadata": {},
   "outputs": [
    {
     "data": {
      "text/plain": [
       "'₹100 discount on 1st order'"
      ]
     },
     "execution_count": 14,
     "metadata": {},
     "output_type": "execute_result"
    }
   ],
   "source": [
    "dis = bag.find_all(\"p\",color=\"greyT1\")\n",
    "dis[130].text.strip()\n"
   ]
  },
  {
   "cell_type": "code",
   "execution_count": 15,
   "metadata": {},
   "outputs": [
    {
     "ename": "NameError",
     "evalue": "name 'lendis_' is not defined",
     "output_type": "error",
     "traceback": [
      "\u001b[1;31m---------------------------------------------------------------------------\u001b[0m",
      "\u001b[1;31mNameError\u001b[0m                                 Traceback (most recent call last)",
      "\u001b[1;32m<ipython-input-15-4746a8fab361>\u001b[0m in \u001b[0;36m<module>\u001b[1;34m\u001b[0m\n\u001b[0;32m      4\u001b[0m \u001b[1;33m\u001b[0m\u001b[0m\n\u001b[0;32m      5\u001b[0m \u001b[1;33m\u001b[0m\u001b[0m\n\u001b[1;32m----> 6\u001b[1;33m \u001b[0mlendis_\u001b[0m\u001b[1;33m\u001b[0m\u001b[1;33m\u001b[0m\u001b[0m\n\u001b[0m",
      "\u001b[1;31mNameError\u001b[0m: name 'lendis_' is not defined"
     ]
    }
   ],
   "source": [
    "dis_ = []\n",
    "for dis in bag.find_all(\"p\",color=\"greyT1\"):\n",
    "    dis_.append(dis.text)\n",
    "    \n",
    "     \n",
    "lendis_"
   ]
  },
  {
   "cell_type": "code",
   "execution_count": 16,
   "metadata": {},
   "outputs": [
    {
     "data": {
      "text/plain": [
       "139"
      ]
     },
     "execution_count": 16,
     "metadata": {},
     "output_type": "execute_result"
    }
   ],
   "source": [
    "len(dis_)"
   ]
  },
  {
   "cell_type": "code",
   "execution_count": 17,
   "metadata": {},
   "outputs": [
    {
     "data": {
      "text/plain": [
       "['₹100 discount on 1st order',\n",
       " '₹100 discount on 1st order',\n",
       " '₹100 discount on 1st order',\n",
       " '₹78 discount on 1st order',\n",
       " '₹100 discount on 1st order',\n",
       " '₹100 discount on 1st order',\n",
       " '₹61 discount on 1st order',\n",
       " '₹100 discount on 1st order',\n",
       " '₹100 discount on 1st order',\n",
       " '₹100 discount on 1st order',\n",
       " '₹100 discount on 1st order',\n",
       " '₹100 discount on 1st order',\n",
       " '₹100 discount on 1st order',\n",
       " '₹100 discount on 1st order',\n",
       " '₹100 discount on 1st order',\n",
       " '₹100 discount on 1st order',\n",
       " '₹30 discount on 1st order',\n",
       " '₹100 discount on 1st order',\n",
       " '₹100 discount on 1st order',\n",
       " '₹100 discount on 1st order']"
      ]
     },
     "execution_count": 17,
     "metadata": {},
     "output_type": "execute_result"
    }
   ],
   "source": [
    "(dis_[118:138])"
   ]
  },
  {
   "cell_type": "code",
   "execution_count": 18,
   "metadata": {},
   "outputs": [],
   "source": [
    "import pandas as pd"
   ]
  },
  {
   "cell_type": "code",
   "execution_count": 19,
   "metadata": {},
   "outputs": [
    {
     "data": {
      "text/html": [
       "<div>\n",
       "<style scoped>\n",
       "    .dataframe tbody tr th:only-of-type {\n",
       "        vertical-align: middle;\n",
       "    }\n",
       "\n",
       "    .dataframe tbody tr th {\n",
       "        vertical-align: top;\n",
       "    }\n",
       "\n",
       "    .dataframe thead th {\n",
       "        text-align: right;\n",
       "    }\n",
       "</style>\n",
       "<table border=\"1\" class=\"dataframe\">\n",
       "  <thead>\n",
       "    <tr style=\"text-align: right;\">\n",
       "      <th></th>\n",
       "      <th>Name</th>\n",
       "      <th>Price</th>\n",
       "      <th>Discount</th>\n",
       "    </tr>\n",
       "  </thead>\n",
       "  <tbody>\n",
       "    <tr>\n",
       "      <th>0</th>\n",
       "      <td>Voguish Alluring Women Handbags</td>\n",
       "      <td>₹584</td>\n",
       "      <td>₹100 discount on 1st order</td>\n",
       "    </tr>\n",
       "    <tr>\n",
       "      <th>1</th>\n",
       "      <td>Elegant Attractive Women Handbags</td>\n",
       "      <td>₹374</td>\n",
       "      <td>₹100 discount on 1st order</td>\n",
       "    </tr>\n",
       "    <tr>\n",
       "      <th>2</th>\n",
       "      <td>Voguish Classy Women Handbags</td>\n",
       "      <td>₹384</td>\n",
       "      <td>₹100 discount on 1st order</td>\n",
       "    </tr>\n",
       "    <tr>\n",
       "      <th>3</th>\n",
       "      <td>Elegant Fashionable Women Handbags</td>\n",
       "      <td>₹185</td>\n",
       "      <td>₹78 discount on 1st order</td>\n",
       "    </tr>\n",
       "    <tr>\n",
       "      <th>4</th>\n",
       "      <td>Voguish Versatile Women Handbags</td>\n",
       "      <td>₹534</td>\n",
       "      <td>₹100 discount on 1st order</td>\n",
       "    </tr>\n",
       "    <tr>\n",
       "      <th>5</th>\n",
       "      <td>Graceful Attractive Women Handbags</td>\n",
       "      <td>₹426</td>\n",
       "      <td>₹100 discount on 1st order</td>\n",
       "    </tr>\n",
       "    <tr>\n",
       "      <th>6</th>\n",
       "      <td>Ameyson Attractive Women Jute Printed Lunch Ti...</td>\n",
       "      <td>₹145</td>\n",
       "      <td>₹61 discount on 1st order</td>\n",
       "    </tr>\n",
       "    <tr>\n",
       "      <th>7</th>\n",
       "      <td>Ravishing Versatile Women Handbags</td>\n",
       "      <td>₹484</td>\n",
       "      <td>₹100 discount on 1st order</td>\n",
       "    </tr>\n",
       "    <tr>\n",
       "      <th>8</th>\n",
       "      <td>Gorgeous Alluring Women Handbags</td>\n",
       "      <td>₹323</td>\n",
       "      <td>₹100 discount on 1st order</td>\n",
       "    </tr>\n",
       "    <tr>\n",
       "      <th>9</th>\n",
       "      <td>Elite Alluring Women Handbags</td>\n",
       "      <td>₹281</td>\n",
       "      <td>₹100 discount on 1st order</td>\n",
       "    </tr>\n",
       "    <tr>\n",
       "      <th>10</th>\n",
       "      <td>Graceful Attractive Women Handbags</td>\n",
       "      <td>₹263</td>\n",
       "      <td>₹100 discount on 1st order</td>\n",
       "    </tr>\n",
       "    <tr>\n",
       "      <th>11</th>\n",
       "      <td>HANDBAGS</td>\n",
       "      <td>₹336</td>\n",
       "      <td>₹100 discount on 1st order</td>\n",
       "    </tr>\n",
       "    <tr>\n",
       "      <th>12</th>\n",
       "      <td>Graceful Fancy Women Handbags</td>\n",
       "      <td>₹234</td>\n",
       "      <td>₹100 discount on 1st order</td>\n",
       "    </tr>\n",
       "    <tr>\n",
       "      <th>13</th>\n",
       "      <td>Classic Versatile Women Handbags</td>\n",
       "      <td>₹610</td>\n",
       "      <td>₹100 discount on 1st order</td>\n",
       "    </tr>\n",
       "    <tr>\n",
       "      <th>14</th>\n",
       "      <td>Voguish Alluring Women Handbags</td>\n",
       "      <td>₹1223</td>\n",
       "      <td>₹100 discount on 1st order</td>\n",
       "    </tr>\n",
       "    <tr>\n",
       "      <th>15</th>\n",
       "      <td>Elegant Versatile Women Handbags</td>\n",
       "      <td>₹565</td>\n",
       "      <td>₹100 discount on 1st order</td>\n",
       "    </tr>\n",
       "    <tr>\n",
       "      <th>16</th>\n",
       "      <td>FashionableLatest Women  handbag</td>\n",
       "      <td>₹70</td>\n",
       "      <td>₹30 discount on 1st order</td>\n",
       "    </tr>\n",
       "    <tr>\n",
       "      <th>17</th>\n",
       "      <td>Ravishing Fashionable Women Handbags</td>\n",
       "      <td>₹746</td>\n",
       "      <td>₹100 discount on 1st order</td>\n",
       "    </tr>\n",
       "    <tr>\n",
       "      <th>18</th>\n",
       "      <td>Classic Classy Women Handbags</td>\n",
       "      <td>₹611</td>\n",
       "      <td>₹100 discount on 1st order</td>\n",
       "    </tr>\n",
       "    <tr>\n",
       "      <th>19</th>\n",
       "      <td>Voguish Stylish Women Handbags</td>\n",
       "      <td>₹693</td>\n",
       "      <td>₹100 discount on 1st order</td>\n",
       "    </tr>\n",
       "  </tbody>\n",
       "</table>\n",
       "</div>"
      ],
      "text/plain": [
       "                                                 Name  Price  \\\n",
       "0                     Voguish Alluring Women Handbags   ₹584   \n",
       "1                   Elegant Attractive Women Handbags   ₹374   \n",
       "2                       Voguish Classy Women Handbags   ₹384   \n",
       "3                  Elegant Fashionable Women Handbags   ₹185   \n",
       "4                    Voguish Versatile Women Handbags   ₹534   \n",
       "5                  Graceful Attractive Women Handbags   ₹426   \n",
       "6   Ameyson Attractive Women Jute Printed Lunch Ti...   ₹145   \n",
       "7                  Ravishing Versatile Women Handbags   ₹484   \n",
       "8                    Gorgeous Alluring Women Handbags   ₹323   \n",
       "9                       Elite Alluring Women Handbags   ₹281   \n",
       "10                 Graceful Attractive Women Handbags   ₹263   \n",
       "11                                           HANDBAGS   ₹336   \n",
       "12                      Graceful Fancy Women Handbags   ₹234   \n",
       "13                   Classic Versatile Women Handbags   ₹610   \n",
       "14                    Voguish Alluring Women Handbags  ₹1223   \n",
       "15                   Elegant Versatile Women Handbags   ₹565   \n",
       "16                   FashionableLatest Women  handbag    ₹70   \n",
       "17               Ravishing Fashionable Women Handbags   ₹746   \n",
       "18                      Classic Classy Women Handbags   ₹611   \n",
       "19                     Voguish Stylish Women Handbags   ₹693   \n",
       "\n",
       "                      Discount  \n",
       "0   ₹100 discount on 1st order  \n",
       "1   ₹100 discount on 1st order  \n",
       "2   ₹100 discount on 1st order  \n",
       "3    ₹78 discount on 1st order  \n",
       "4   ₹100 discount on 1st order  \n",
       "5   ₹100 discount on 1st order  \n",
       "6    ₹61 discount on 1st order  \n",
       "7   ₹100 discount on 1st order  \n",
       "8   ₹100 discount on 1st order  \n",
       "9   ₹100 discount on 1st order  \n",
       "10  ₹100 discount on 1st order  \n",
       "11  ₹100 discount on 1st order  \n",
       "12  ₹100 discount on 1st order  \n",
       "13  ₹100 discount on 1st order  \n",
       "14  ₹100 discount on 1st order  \n",
       "15  ₹100 discount on 1st order  \n",
       "16   ₹30 discount on 1st order  \n",
       "17  ₹100 discount on 1st order  \n",
       "18  ₹100 discount on 1st order  \n",
       "19  ₹100 discount on 1st order  "
      ]
     },
     "execution_count": 19,
     "metadata": {},
     "output_type": "execute_result"
    }
   ],
   "source": [
    "df = pd.DataFrame({'Name':name_[::2],'Price':price_,'Discount':dis_[118:138]})\n",
    "df"
   ]
  },
  {
   "cell_type": "code",
   "execution_count": null,
   "metadata": {},
   "outputs": [],
   "source": []
  }
 ],
 "metadata": {
  "kernelspec": {
   "display_name": "Python 3",
   "language": "python",
   "name": "python3"
  },
  "language_info": {
   "codemirror_mode": {
    "name": "ipython",
    "version": 3
   },
   "file_extension": ".py",
   "mimetype": "text/x-python",
   "name": "python",
   "nbconvert_exporter": "python",
   "pygments_lexer": "ipython3",
   "version": "3.8.5"
  }
 },
 "nbformat": 4,
 "nbformat_minor": 4
}
